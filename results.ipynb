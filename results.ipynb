{
 "cells": [
  {
   "cell_type": "code",
   "execution_count": 1,
   "metadata": {},
   "outputs": [
    {
     "name": "stderr",
     "output_type": "stream",
     "text": [
      "/opt/conda/lib/python3.7/site-packages/requests/__init__.py:91: RequestsDependencyWarning: urllib3 (1.26.7) or chardet (3.0.4) doesn't match a supported version!\n",
      "  RequestsDependencyWarning)\n"
     ]
    }
   ],
   "source": [
    "import orchest"
   ]
  },
  {
   "cell_type": "code",
   "execution_count": 2,
   "metadata": {},
   "outputs": [],
   "source": [
    "data = orchest.get_inputs()\n",
    "automl = data[\"automl\"]"
   ]
  },
  {
   "cell_type": "code",
   "execution_count": 3,
   "metadata": {},
   "outputs": [
    {
     "data": {
      "text/html": [
       "<div>\n",
       "<style scoped>\n",
       "    .dataframe tbody tr th:only-of-type {\n",
       "        vertical-align: middle;\n",
       "    }\n",
       "\n",
       "    .dataframe tbody tr th {\n",
       "        vertical-align: top;\n",
       "    }\n",
       "\n",
       "    .dataframe thead th {\n",
       "        text-align: right;\n",
       "    }\n",
       "</style>\n",
       "<table border=\"1\" class=\"dataframe\">\n",
       "  <thead>\n",
       "    <tr style=\"text-align: right;\">\n",
       "      <th></th>\n",
       "      <th>id</th>\n",
       "      <th>pipeline_name</th>\n",
       "      <th>search_order</th>\n",
       "      <th>mean_cv_score</th>\n",
       "      <th>standard_deviation_cv_score</th>\n",
       "      <th>validation_score</th>\n",
       "      <th>percent_better_than_baseline</th>\n",
       "      <th>high_variance_cv</th>\n",
       "      <th>parameters</th>\n",
       "    </tr>\n",
       "  </thead>\n",
       "  <tbody>\n",
       "    <tr>\n",
       "      <th>0</th>\n",
       "      <td>6</td>\n",
       "      <td>XGBoost Classifier w/ Drop Columns Transformer...</td>\n",
       "      <td>6</td>\n",
       "      <td>0.556424</td>\n",
       "      <td>0.025631</td>\n",
       "      <td>0.530816</td>\n",
       "      <td>96.251024</td>\n",
       "      <td>False</td>\n",
       "      <td>{'Drop Columns Transformer': {'columns': ['loc...</td>\n",
       "    </tr>\n",
       "    <tr>\n",
       "      <th>1</th>\n",
       "      <td>4</td>\n",
       "      <td>LightGBM Classifier w/ Drop Columns Transforme...</td>\n",
       "      <td>4</td>\n",
       "      <td>0.566485</td>\n",
       "      <td>0.025639</td>\n",
       "      <td>0.540107</td>\n",
       "      <td>96.183239</td>\n",
       "      <td>False</td>\n",
       "      <td>{'Drop Columns Transformer': {'columns': ['loc...</td>\n",
       "    </tr>\n",
       "    <tr>\n",
       "      <th>2</th>\n",
       "      <td>3</td>\n",
       "      <td>Random Forest Classifier w/ Drop Columns Trans...</td>\n",
       "      <td>3</td>\n",
       "      <td>0.592860</td>\n",
       "      <td>0.010162</td>\n",
       "      <td>0.582559</td>\n",
       "      <td>96.005531</td>\n",
       "      <td>False</td>\n",
       "      <td>{'Drop Columns Transformer': {'columns': ['loc...</td>\n",
       "    </tr>\n",
       "    <tr>\n",
       "      <th>3</th>\n",
       "      <td>1</td>\n",
       "      <td>Elastic Net Classifier w/ Drop Columns Transfo...</td>\n",
       "      <td>1</td>\n",
       "      <td>0.623609</td>\n",
       "      <td>0.023341</td>\n",
       "      <td>0.598650</td>\n",
       "      <td>95.798357</td>\n",
       "      <td>False</td>\n",
       "      <td>{'Drop Columns Transformer': {'columns': ['loc...</td>\n",
       "    </tr>\n",
       "    <tr>\n",
       "      <th>4</th>\n",
       "      <td>5</td>\n",
       "      <td>Logistic Regression Classifier w/ Drop Columns...</td>\n",
       "      <td>5</td>\n",
       "      <td>0.623639</td>\n",
       "      <td>0.023390</td>\n",
       "      <td>0.598631</td>\n",
       "      <td>95.798155</td>\n",
       "      <td>False</td>\n",
       "      <td>{'Drop Columns Transformer': {'columns': ['loc...</td>\n",
       "    </tr>\n",
       "    <tr>\n",
       "      <th>5</th>\n",
       "      <td>7</td>\n",
       "      <td>Extra Trees Classifier w/ Drop Columns Transfo...</td>\n",
       "      <td>7</td>\n",
       "      <td>0.625672</td>\n",
       "      <td>0.005968</td>\n",
       "      <td>0.619761</td>\n",
       "      <td>95.784456</td>\n",
       "      <td>False</td>\n",
       "      <td>{'Drop Columns Transformer': {'columns': ['loc...</td>\n",
       "    </tr>\n",
       "    <tr>\n",
       "      <th>6</th>\n",
       "      <td>8</td>\n",
       "      <td>CatBoost Classifier w/ Drop Columns Transforme...</td>\n",
       "      <td>8</td>\n",
       "      <td>0.642324</td>\n",
       "      <td>0.006164</td>\n",
       "      <td>0.635975</td>\n",
       "      <td>95.672265</td>\n",
       "      <td>False</td>\n",
       "      <td>{'Drop Columns Transformer': {'columns': ['loc...</td>\n",
       "    </tr>\n",
       "    <tr>\n",
       "      <th>7</th>\n",
       "      <td>2</td>\n",
       "      <td>Decision Tree Classifier w/ Drop Columns Trans...</td>\n",
       "      <td>2</td>\n",
       "      <td>0.815952</td>\n",
       "      <td>0.100705</td>\n",
       "      <td>0.726748</td>\n",
       "      <td>94.502425</td>\n",
       "      <td>False</td>\n",
       "      <td>{'Drop Columns Transformer': {'columns': ['loc...</td>\n",
       "    </tr>\n",
       "    <tr>\n",
       "      <th>9</th>\n",
       "      <td>0</td>\n",
       "      <td>Mode Baseline Binary Classification Pipeline</td>\n",
       "      <td>0</td>\n",
       "      <td>14.842032</td>\n",
       "      <td>0.009823</td>\n",
       "      <td>14.853375</td>\n",
       "      <td>0.000000</td>\n",
       "      <td>False</td>\n",
       "      <td>{'Baseline Classifier': {'strategy': 'mode'}}</td>\n",
       "    </tr>\n",
       "  </tbody>\n",
       "</table>\n",
       "</div>"
      ],
      "text/plain": [
       "   id                                      pipeline_name  search_order  \\\n",
       "0   6  XGBoost Classifier w/ Drop Columns Transformer...             6   \n",
       "1   4  LightGBM Classifier w/ Drop Columns Transforme...             4   \n",
       "2   3  Random Forest Classifier w/ Drop Columns Trans...             3   \n",
       "3   1  Elastic Net Classifier w/ Drop Columns Transfo...             1   \n",
       "4   5  Logistic Regression Classifier w/ Drop Columns...             5   \n",
       "5   7  Extra Trees Classifier w/ Drop Columns Transfo...             7   \n",
       "6   8  CatBoost Classifier w/ Drop Columns Transforme...             8   \n",
       "7   2  Decision Tree Classifier w/ Drop Columns Trans...             2   \n",
       "9   0       Mode Baseline Binary Classification Pipeline             0   \n",
       "\n",
       "   mean_cv_score  standard_deviation_cv_score  validation_score  \\\n",
       "0       0.556424                     0.025631          0.530816   \n",
       "1       0.566485                     0.025639          0.540107   \n",
       "2       0.592860                     0.010162          0.582559   \n",
       "3       0.623609                     0.023341          0.598650   \n",
       "4       0.623639                     0.023390          0.598631   \n",
       "5       0.625672                     0.005968          0.619761   \n",
       "6       0.642324                     0.006164          0.635975   \n",
       "7       0.815952                     0.100705          0.726748   \n",
       "9      14.842032                     0.009823         14.853375   \n",
       "\n",
       "   percent_better_than_baseline  high_variance_cv  \\\n",
       "0                     96.251024             False   \n",
       "1                     96.183239             False   \n",
       "2                     96.005531             False   \n",
       "3                     95.798357             False   \n",
       "4                     95.798155             False   \n",
       "5                     95.784456             False   \n",
       "6                     95.672265             False   \n",
       "7                     94.502425             False   \n",
       "9                      0.000000             False   \n",
       "\n",
       "                                          parameters  \n",
       "0  {'Drop Columns Transformer': {'columns': ['loc...  \n",
       "1  {'Drop Columns Transformer': {'columns': ['loc...  \n",
       "2  {'Drop Columns Transformer': {'columns': ['loc...  \n",
       "3  {'Drop Columns Transformer': {'columns': ['loc...  \n",
       "4  {'Drop Columns Transformer': {'columns': ['loc...  \n",
       "5  {'Drop Columns Transformer': {'columns': ['loc...  \n",
       "6  {'Drop Columns Transformer': {'columns': ['loc...  \n",
       "7  {'Drop Columns Transformer': {'columns': ['loc...  \n",
       "9      {'Baseline Classifier': {'strategy': 'mode'}}  "
      ]
     },
     "execution_count": 3,
     "metadata": {},
     "output_type": "execute_result"
    }
   ],
   "source": [
    "automl.rankings"
   ]
  },
  {
   "cell_type": "code",
   "execution_count": 4,
   "metadata": {},
   "outputs": [],
   "source": [
    "orchest.output(automl.rankings,name='automl_results')"
   ]
  },
  {
   "cell_type": "code",
   "execution_count": 5,
   "metadata": {},
   "outputs": [
    {
     "name": "stdout",
     "output_type": "stream",
     "text": [
      "\n",
      "*************************************************************************************************************\n"
     ]
    },
    {
     "name": "stdout",
     "output_type": "stream",
     "text": [
      "* XGBoost Classifier w/ Drop Columns Transformer + Text Featurization Component + Imputer + One Hot Encoder *\n"
     ]
    },
    {
     "name": "stdout",
     "output_type": "stream",
     "text": [
      "*************************************************************************************************************\n"
     ]
    },
    {
     "name": "stdout",
     "output_type": "stream",
     "text": [
      "\n"
     ]
    },
    {
     "name": "stdout",
     "output_type": "stream",
     "text": [
      "Problem Type: binary\n"
     ]
    },
    {
     "name": "stdout",
     "output_type": "stream",
     "text": [
      "Model Family: XGBoost\n"
     ]
    },
    {
     "name": "stdout",
     "output_type": "stream",
     "text": [
      "\n"
     ]
    },
    {
     "name": "stdout",
     "output_type": "stream",
     "text": [
      "Pipeline Steps\n"
     ]
    },
    {
     "name": "stdout",
     "output_type": "stream",
     "text": [
      "==============\n"
     ]
    },
    {
     "name": "stdout",
     "output_type": "stream",
     "text": [
      "1. Drop Columns Transformer\n"
     ]
    },
    {
     "name": "stdout",
     "output_type": "stream",
     "text": [
      "\t * columns : ['location']\n"
     ]
    },
    {
     "name": "stdout",
     "output_type": "stream",
     "text": [
      "2. Text Featurization Component\n"
     ]
    },
    {
     "name": "stdout",
     "output_type": "stream",
     "text": [
      "3. Imputer\n"
     ]
    },
    {
     "name": "stdout",
     "output_type": "stream",
     "text": [
      "\t * categorical_impute_strategy : most_frequent\n"
     ]
    },
    {
     "name": "stdout",
     "output_type": "stream",
     "text": [
      "\t * numeric_impute_strategy : mean\n"
     ]
    },
    {
     "name": "stdout",
     "output_type": "stream",
     "text": [
      "\t * categorical_fill_value : None\n"
     ]
    },
    {
     "name": "stdout",
     "output_type": "stream",
     "text": [
      "\t * numeric_fill_value : None\n"
     ]
    },
    {
     "name": "stdout",
     "output_type": "stream",
     "text": [
      "4. One Hot Encoder\n"
     ]
    },
    {
     "name": "stdout",
     "output_type": "stream",
     "text": [
      "\t * top_n : 10\n"
     ]
    },
    {
     "name": "stdout",
     "output_type": "stream",
     "text": [
      "\t * features_to_encode : None\n"
     ]
    },
    {
     "name": "stdout",
     "output_type": "stream",
     "text": [
      "\t * categories : None\n"
     ]
    },
    {
     "name": "stdout",
     "output_type": "stream",
     "text": [
      "\t * drop : if_binary\n"
     ]
    },
    {
     "name": "stdout",
     "output_type": "stream",
     "text": [
      "\t * handle_unknown : ignore\n"
     ]
    },
    {
     "name": "stdout",
     "output_type": "stream",
     "text": [
      "\t * handle_missing : error\n"
     ]
    },
    {
     "name": "stdout",
     "output_type": "stream",
     "text": [
      "5. XGBoost Classifier\n"
     ]
    },
    {
     "name": "stdout",
     "output_type": "stream",
     "text": [
      "\t * eta : 0.1\n"
     ]
    },
    {
     "name": "stdout",
     "output_type": "stream",
     "text": [
      "\t * max_depth : 6\n"
     ]
    },
    {
     "name": "stdout",
     "output_type": "stream",
     "text": [
      "\t * min_child_weight : 1\n"
     ]
    },
    {
     "name": "stdout",
     "output_type": "stream",
     "text": [
      "\t * n_estimators : 100\n"
     ]
    },
    {
     "name": "stdout",
     "output_type": "stream",
     "text": [
      "\t * n_jobs : -1\n"
     ]
    },
    {
     "name": "stdout",
     "output_type": "stream",
     "text": [
      "\t * eval_metric : logloss\n"
     ]
    },
    {
     "name": "stdout",
     "output_type": "stream",
     "text": [
      "\n"
     ]
    },
    {
     "name": "stdout",
     "output_type": "stream",
     "text": [
      "Training\n"
     ]
    },
    {
     "name": "stdout",
     "output_type": "stream",
     "text": [
      "========\n"
     ]
    },
    {
     "name": "stdout",
     "output_type": "stream",
     "text": [
      "Training for binary problems.\n"
     ]
    },
    {
     "name": "stdout",
     "output_type": "stream",
     "text": [
      "Total training time (including CV): 46.9 seconds\n"
     ]
    },
    {
     "name": "stdout",
     "output_type": "stream",
     "text": [
      "\n"
     ]
    },
    {
     "name": "stdout",
     "output_type": "stream",
     "text": [
      "Cross Validation\n"
     ]
    },
    {
     "name": "stdout",
     "output_type": "stream",
     "text": [
      "----------------\n"
     ]
    },
    {
     "name": "stdout",
     "output_type": "stream",
     "text": [
      "             Log Loss Binary    F1 # Training # Validation\n",
      "0                      0.531 0.675      4,060        2,030\n",
      "1                      0.582 0.657      4,060        2,030\n",
      "2                      0.556 0.678      4,060        2,030\n",
      "mean                   0.556 0.670          -            -\n",
      "std                    0.026 0.011          -            -\n",
      "coef of var            0.046 0.017          -            -\n"
     ]
    }
   ],
   "source": [
    "best_pipeline_id = automl.rankings.iloc[0][\"id\"]\n",
    "automl.describe_pipeline(best_pipeline_id)"
   ]
  },
  {
   "cell_type": "code",
   "execution_count": 6,
   "metadata": {},
   "outputs": [
    {
     "data": {
      "image/svg+xml": [
       "<?xml version=\"1.0\" encoding=\"UTF-8\" standalone=\"no\"?>\n",
       "<!DOCTYPE svg PUBLIC \"-//W3C//DTD SVG 1.1//EN\"\n",
       " \"http://www.w3.org/Graphics/SVG/1.1/DTD/svg11.dtd\">\n",
       "<!-- Generated by graphviz version 2.42.3 (20191010.1750)\n",
       " -->\n",
       "<!-- Title: %3 Pages: 1 -->\n",
       "<svg width=\"1172pt\" height=\"215pt\"\n",
       " viewBox=\"0.00 0.00 1172.00 214.50\" xmlns=\"http://www.w3.org/2000/svg\" xmlns:xlink=\"http://www.w3.org/1999/xlink\">\n",
       "<g id=\"graph0\" class=\"graph\" transform=\"scale(1 1) rotate(0) translate(4 210.5)\">\n",
       "<title>%3</title>\n",
       "<polygon fill=\"white\" stroke=\"transparent\" points=\"-4,4 -4,-210.5 1168,-210.5 1168,4 -4,4\"/>\n",
       "<!-- Drop Columns Transformer -->\n",
       "<g id=\"node1\" class=\"node\">\n",
       "<title>Drop Columns Transformer</title>\n",
       "<polygon fill=\"none\" stroke=\"black\" points=\"72,-160 72,-206 248,-206 248,-160 72,-160\"/>\n",
       "<text text-anchor=\"middle\" x=\"160\" y=\"-190.8\" font-family=\"Times,serif\" font-size=\"14.00\">Drop Columns Transformer</text>\n",
       "<polyline fill=\"none\" stroke=\"black\" points=\"72,-183 248,-183 \"/>\n",
       "<text text-anchor=\"start\" x=\"80\" y=\"-167.8\" font-family=\"Times,serif\" font-size=\"14.00\">columns : [&#39;location&#39;]</text>\n",
       "</g>\n",
       "<!-- Text Featurization Component -->\n",
       "<g id=\"node2\" class=\"node\">\n",
       "<title>Text Featurization Component</title>\n",
       "<polygon fill=\"none\" stroke=\"black\" points=\"284,-121.5 284,-168.5 476,-168.5 476,-121.5 284,-121.5\"/>\n",
       "<text text-anchor=\"middle\" x=\"380\" y=\"-153.3\" font-family=\"Times,serif\" font-size=\"14.00\">Text Featurization Component</text>\n",
       "<polyline fill=\"none\" stroke=\"black\" points=\"284,-145.5 476,-145.5 \"/>\n",
       "</g>\n",
       "<!-- Drop Columns Transformer&#45;&gt;Text Featurization Component -->\n",
       "<g id=\"edge1\" class=\"edge\">\n",
       "<title>Drop Columns Transformer&#45;&gt;Text Featurization Component</title>\n",
       "<path fill=\"none\" stroke=\"black\" d=\"M248.1,-167.82C256.54,-166.35 265.16,-164.84 273.75,-163.35\"/>\n",
       "<polygon fill=\"black\" stroke=\"black\" points=\"274.56,-166.76 283.81,-161.59 273.36,-159.86 274.56,-166.76\"/>\n",
       "</g>\n",
       "<!-- Imputer -->\n",
       "<g id=\"node3\" class=\"node\">\n",
       "<title>Imputer</title>\n",
       "<polygon fill=\"none\" stroke=\"black\" points=\"512,-83.5 512,-174.5 782,-174.5 782,-83.5 512,-83.5\"/>\n",
       "<text text-anchor=\"middle\" x=\"647\" y=\"-159.3\" font-family=\"Times,serif\" font-size=\"14.00\">Imputer</text>\n",
       "<polyline fill=\"none\" stroke=\"black\" points=\"512,-151.5 782,-151.5 \"/>\n",
       "<text text-anchor=\"start\" x=\"520\" y=\"-136.3\" font-family=\"Times,serif\" font-size=\"14.00\">categorical_impute_strategy : most_frequent</text>\n",
       "<text text-anchor=\"start\" x=\"520\" y=\"-121.3\" font-family=\"Times,serif\" font-size=\"14.00\">numeric_impute_strategy : mean</text>\n",
       "<text text-anchor=\"start\" x=\"520\" y=\"-106.3\" font-family=\"Times,serif\" font-size=\"14.00\">categorical_fill_value : None</text>\n",
       "<text text-anchor=\"start\" x=\"520\" y=\"-91.3\" font-family=\"Times,serif\" font-size=\"14.00\">numeric_fill_value : None</text>\n",
       "</g>\n",
       "<!-- Text Featurization Component&#45;&gt;Imputer -->\n",
       "<g id=\"edge2\" class=\"edge\">\n",
       "<title>Text Featurization Component&#45;&gt;Imputer</title>\n",
       "<path fill=\"none\" stroke=\"black\" d=\"M476.3,-139.25C484.62,-138.74 493.15,-138.23 501.75,-137.71\"/>\n",
       "<polygon fill=\"black\" stroke=\"black\" points=\"502.09,-141.2 511.86,-137.1 501.67,-134.21 502.09,-141.2\"/>\n",
       "</g>\n",
       "<!-- One Hot Encoder -->\n",
       "<g id=\"node4\" class=\"node\">\n",
       "<title>One Hot Encoder</title>\n",
       "<polygon fill=\"none\" stroke=\"black\" points=\"818,-45.5 818,-166.5 988,-166.5 988,-45.5 818,-45.5\"/>\n",
       "<text text-anchor=\"middle\" x=\"903\" y=\"-151.3\" font-family=\"Times,serif\" font-size=\"14.00\">One Hot Encoder</text>\n",
       "<polyline fill=\"none\" stroke=\"black\" points=\"818,-143.5 988,-143.5 \"/>\n",
       "<text text-anchor=\"start\" x=\"826\" y=\"-128.3\" font-family=\"Times,serif\" font-size=\"14.00\">top_n : 10</text>\n",
       "<text text-anchor=\"start\" x=\"826\" y=\"-113.3\" font-family=\"Times,serif\" font-size=\"14.00\">features_to_encode : None</text>\n",
       "<text text-anchor=\"start\" x=\"826\" y=\"-98.3\" font-family=\"Times,serif\" font-size=\"14.00\">categories : None</text>\n",
       "<text text-anchor=\"start\" x=\"826\" y=\"-83.3\" font-family=\"Times,serif\" font-size=\"14.00\">drop : if_binary</text>\n",
       "<text text-anchor=\"start\" x=\"826\" y=\"-68.3\" font-family=\"Times,serif\" font-size=\"14.00\">handle_unknown : ignore</text>\n",
       "<text text-anchor=\"start\" x=\"826\" y=\"-53.3\" font-family=\"Times,serif\" font-size=\"14.00\">handle_missing : error</text>\n",
       "</g>\n",
       "<!-- Imputer&#45;&gt;One Hot Encoder -->\n",
       "<g id=\"edge3\" class=\"edge\">\n",
       "<title>Imputer&#45;&gt;One Hot Encoder</title>\n",
       "<path fill=\"none\" stroke=\"black\" d=\"M782.07,-116.86C790.71,-116.08 799.32,-115.3 807.72,-114.54\"/>\n",
       "<polygon fill=\"black\" stroke=\"black\" points=\"808.21,-118.01 817.85,-113.62 807.58,-111.04 808.21,-118.01\"/>\n",
       "</g>\n",
       "<!-- XGBoost Classifier -->\n",
       "<g id=\"node5\" class=\"node\">\n",
       "<title>XGBoost Classifier</title>\n",
       "<polygon fill=\"none\" stroke=\"black\" points=\"1024,-0.5 1024,-121.5 1164,-121.5 1164,-0.5 1024,-0.5\"/>\n",
       "<text text-anchor=\"middle\" x=\"1094\" y=\"-106.3\" font-family=\"Times,serif\" font-size=\"14.00\">XGBoost Classifier</text>\n",
       "<polyline fill=\"none\" stroke=\"black\" points=\"1024,-98.5 1164,-98.5 \"/>\n",
       "<text text-anchor=\"start\" x=\"1032\" y=\"-83.3\" font-family=\"Times,serif\" font-size=\"14.00\">eta : 0.10</text>\n",
       "<text text-anchor=\"start\" x=\"1032\" y=\"-68.3\" font-family=\"Times,serif\" font-size=\"14.00\">max_depth : 6</text>\n",
       "<text text-anchor=\"start\" x=\"1032\" y=\"-53.3\" font-family=\"Times,serif\" font-size=\"14.00\">min_child_weight : 1</text>\n",
       "<text text-anchor=\"start\" x=\"1032\" y=\"-38.3\" font-family=\"Times,serif\" font-size=\"14.00\">n_estimators : 100</text>\n",
       "<text text-anchor=\"start\" x=\"1032\" y=\"-23.3\" font-family=\"Times,serif\" font-size=\"14.00\">n_jobs : &#45;1</text>\n",
       "<text text-anchor=\"start\" x=\"1032\" y=\"-8.3\" font-family=\"Times,serif\" font-size=\"14.00\">eval_metric : logloss</text>\n",
       "</g>\n",
       "<!-- One Hot Encoder&#45;&gt;XGBoost Classifier -->\n",
       "<g id=\"edge4\" class=\"edge\">\n",
       "<title>One Hot Encoder&#45;&gt;XGBoost Classifier</title>\n",
       "<path fill=\"none\" stroke=\"black\" d=\"M988.27,-85.93C996.84,-83.9 1005.51,-81.83 1014.01,-79.81\"/>\n",
       "<polygon fill=\"black\" stroke=\"black\" points=\"1014.98,-83.17 1023.9,-77.45 1013.36,-76.36 1014.98,-83.17\"/>\n",
       "</g>\n",
       "<!-- X -->\n",
       "<g id=\"node6\" class=\"node\">\n",
       "<title>X</title>\n",
       "<ellipse fill=\"none\" stroke=\"black\" cx=\"18\" cy=\"-183\" rx=\"18\" ry=\"18\"/>\n",
       "<text text-anchor=\"middle\" x=\"18\" y=\"-179.3\" font-family=\"Times,serif\" font-size=\"14.00\">X</text>\n",
       "</g>\n",
       "<!-- X&#45;&gt;Drop Columns Transformer -->\n",
       "<g id=\"edge5\" class=\"edge\">\n",
       "<title>X&#45;&gt;Drop Columns Transformer</title>\n",
       "<path fill=\"none\" stroke=\"black\" d=\"M36.17,-183C43.21,-183 51.96,-183 61.53,-183\"/>\n",
       "<polygon fill=\"black\" stroke=\"black\" points=\"61.75,-186.5 71.75,-183 61.75,-179.5 61.75,-186.5\"/>\n",
       "</g>\n",
       "<!-- y -->\n",
       "<g id=\"node7\" class=\"node\">\n",
       "<title>y</title>\n",
       "<ellipse fill=\"none\" stroke=\"black\" cx=\"18\" cy=\"-93\" rx=\"18\" ry=\"18\"/>\n",
       "<text text-anchor=\"middle\" x=\"18\" y=\"-89.3\" font-family=\"Times,serif\" font-size=\"14.00\">y</text>\n",
       "</g>\n",
       "<!-- y&#45;&gt;Drop Columns Transformer -->\n",
       "<g id=\"edge6\" class=\"edge\">\n",
       "<title>y&#45;&gt;Drop Columns Transformer</title>\n",
       "<path fill=\"none\" stroke=\"black\" stroke-dasharray=\"1,5\" d=\"M30.09,-106.34C40.12,-117.76 55.76,-134.04 72,-145 77.29,-148.57 82.97,-151.93 88.8,-155.06\"/>\n",
       "<polygon fill=\"black\" stroke=\"black\" points=\"87.55,-158.36 98.05,-159.79 90.74,-152.12 87.55,-158.36\"/>\n",
       "</g>\n",
       "<!-- y&#45;&gt;Text Featurization Component -->\n",
       "<g id=\"edge7\" class=\"edge\">\n",
       "<title>y&#45;&gt;Text Featurization Component</title>\n",
       "<path fill=\"none\" stroke=\"black\" stroke-dasharray=\"1,5\" d=\"M35.58,-98C45.96,-100.97 59.67,-104.62 72,-107 138.55,-119.85 214.09,-129.26 273.59,-135.51\"/>\n",
       "<polygon fill=\"black\" stroke=\"black\" points=\"273.44,-139.01 283.75,-136.56 274.16,-132.05 273.44,-139.01\"/>\n",
       "</g>\n",
       "<!-- y&#45;&gt;Imputer -->\n",
       "<g id=\"edge8\" class=\"edge\">\n",
       "<title>y&#45;&gt;Imputer</title>\n",
       "<path fill=\"none\" stroke=\"black\" stroke-dasharray=\"1,5\" d=\"M36.03,-93.35C96.23,-94.67 304.51,-99.87 476,-112 484.4,-112.59 493.03,-113.27 501.73,-113.99\"/>\n",
       "<polygon fill=\"black\" stroke=\"black\" points=\"501.71,-117.5 511.97,-114.86 502.3,-110.53 501.71,-117.5\"/>\n",
       "</g>\n",
       "<!-- y&#45;&gt;One Hot Encoder -->\n",
       "<g id=\"edge9\" class=\"edge\">\n",
       "<title>y&#45;&gt;One Hot Encoder</title>\n",
       "<path fill=\"none\" stroke=\"black\" stroke-dasharray=\"1,5\" d=\"M36.02,-90.64C118.57,-79.59 485.4,-35.13 782,-74 790.54,-75.12 799.34,-76.67 808.11,-78.49\"/>\n",
       "<polygon fill=\"black\" stroke=\"black\" points=\"807.47,-81.93 817.98,-80.65 808.96,-75.09 807.47,-81.93\"/>\n",
       "</g>\n",
       "<!-- y&#45;&gt;XGBoost Classifier -->\n",
       "<g id=\"edge10\" class=\"edge\">\n",
       "<title>y&#45;&gt;XGBoost Classifier</title>\n",
       "<path fill=\"none\" stroke=\"black\" stroke-dasharray=\"1,5\" d=\"M33.76,-83.89C44.11,-77.91 58.45,-70.41 72,-66 203.38,-23.23 240.83,-17 379,-17 379,-17 379,-17 648,-17 799.35,-17 838.24,-14.16 988,-36 996.49,-37.24 1005.3,-38.83 1014.04,-40.62\"/>\n",
       "<polygon fill=\"black\" stroke=\"black\" points=\"1013.36,-44.05 1023.87,-42.7 1014.81,-37.2 1013.36,-44.05\"/>\n",
       "</g>\n",
       "</g>\n",
       "</svg>\n"
      ],
      "text/plain": [
       "<graphviz.dot.Digraph at 0x7f9f0180d4d0>"
      ]
     },
     "execution_count": 6,
     "metadata": {},
     "output_type": "execute_result"
    }
   ],
   "source": [
    "automl.best_pipeline.component_graph.graph()"
   ]
  },
  {
   "cell_type": "code",
   "execution_count": 7,
   "metadata": {},
   "outputs": [],
   "source": [
    "# !conda install python-graphviz -y"
   ]
  }
 ],
 "metadata": {
  "kernelspec": {
   "display_name": "Python 3",
   "language": "python",
   "name": "orchest-kernel-29cddbd9-ee64-4453-9b86-1fbfff20b541"
  },
  "language_info": {
   "codemirror_mode": {
    "name": "ipython",
    "version": 3
   },
   "file_extension": ".py",
   "mimetype": "text/x-python",
   "name": "python",
   "nbconvert_exporter": "python",
   "pygments_lexer": "ipython3",
   "version": "3.7.6"
  }
 },
 "nbformat": 4,
 "nbformat_minor": 4
}
